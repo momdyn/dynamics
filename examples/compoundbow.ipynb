{
 "cells": [
  {
   "cell_type": "markdown",
   "metadata": {},
   "source": [
    "# Compound Bow\n"
   ]
  },
  {
   "cell_type": "markdown",
   "metadata": {},
   "source": [
    "## Imports"
   ]
  },
  {
   "cell_type": "code",
   "execution_count": null,
   "metadata": {},
   "outputs": [],
   "source": [
    "from sympy import *\n",
    "from sympy.physics.mechanics import *\n",
    "from IPython.display import display"
   ]
  },
  {
   "cell_type": "markdown",
   "metadata": {},
   "source": [
    "## Symbols"
   ]
  },
  {
   "cell_type": "markdown",
   "metadata": {},
   "source": [
    "The retract distance for the bow is given by $x$, and the forward speed by $v$. \n",
    "Thus, the single generalized coordinate is $x$, and the corresponding generalized speed is $v$. \n",
    "Because the positive direction of the two is opposite, we define the kinematic equation $\\dot{x} = -v$, or by the convention used in `sympy`, $\\dot{x}+v=0$."
   ]
  },
  {
   "cell_type": "code",
   "execution_count": null,
   "metadata": {},
   "outputs": [],
   "source": [
    "x, v = dynamicsymbols('x, v')\n",
    "kd = [diff(x) + v]"
   ]
  },
  {
   "cell_type": "markdown",
   "metadata": {},
   "source": [
    "We will define the origin of the model as a point at the grip of the bow. \n",
    "The line is initially set back a constant distance $x_0$ from this point, at which point forces are in equilibrium."
   ]
  },
  {
   "cell_type": "code",
   "execution_count": null,
   "metadata": {},
   "outputs": [],
   "source": [
    "x0 = symbols('x_0')"
   ]
  },
  {
   "cell_type": "markdown",
   "metadata": {},
   "source": [
    "The limbs of the bow will be represented by rigid bodies with a rotational spring attached at fixed positions $(x_l, y_l)$ and $(x_l, -y_l)$ relative to the origin. \n"
   ]
  },
  {
   "cell_type": "code",
   "execution_count": null,
   "metadata": {},
   "outputs": [],
   "source": [
    "xl, yl = symbols('x_l, y_l')"
   ]
  },
  {
   "cell_type": "markdown",
   "metadata": {},
   "source": [
    "The extent of the limb's angular displacement relative to $\\theta_0$ is $\\theta$, which is measured relative to the undeflected angle $\\theta_0$ which is measured relative to the horizontal. "
   ]
  },
  {
   "cell_type": "code",
   "execution_count": null,
   "metadata": {},
   "outputs": [],
   "source": [
    "theta = dynamicsymbols('\\\\theta')\n",
    "theta0 = symbols('\\\\theta')"
   ]
  },
  {
   "cell_type": "markdown",
   "metadata": {},
   "source": [
    "The length of each limb is $l$. "
   ]
  },
  {
   "cell_type": "code",
   "execution_count": null,
   "metadata": {},
   "outputs": [],
   "source": [
    "l = symbols('l')"
   ]
  },
  {
   "cell_type": "markdown",
   "metadata": {},
   "source": [
    "The mass and moment of inertia for each limb are $m_l$ and $I_l$, respectively."
   ]
  },
  {
   "cell_type": "code",
   "execution_count": null,
   "metadata": {},
   "outputs": [],
   "source": [
    "ml, Il = symbols('m_l, I_l')"
   ]
  },
  {
   "cell_type": "markdown",
   "metadata": {},
   "source": [
    "The effective angular stiffness of each limb is $k$. "
   ]
  },
  {
   "cell_type": "code",
   "execution_count": null,
   "metadata": {},
   "outputs": [],
   "source": [
    "k = symbols('k')"
   ]
  },
  {
   "cell_type": "markdown",
   "metadata": {},
   "source": [
    "The inner and outer radii at the cam are defined as $r_i$ and $r_o$, respectively. \n",
    "These are initially defined as constants, though they may alternately be defined as functions of angular displacement for non-circular geometries."
   ]
  },
  {
   "cell_type": "code",
   "execution_count": null,
   "metadata": {},
   "outputs": [],
   "source": [
    "ri, ro = symbols('r_i, r_o')"
   ]
  },
  {
   "cell_type": "markdown",
   "metadata": {},
   "source": [
    "The angular displacement for the cams relative to their initial angle is $\\phi$."
   ]
  },
  {
   "cell_type": "code",
   "execution_count": null,
   "metadata": {},
   "outputs": [],
   "source": [
    "phi = dynamicsymbols('\\\\phi')"
   ]
  },
  {
   "cell_type": "markdown",
   "metadata": {},
   "source": [
    "The angle for the inner cam contact point relative to the local horizontal axis is denoted $\\delta$.\n",
    "The angle for the outer cam contact point relative to local horizontal is denoted $\\gamma$."
   ]
  },
  {
   "cell_type": "code",
   "execution_count": null,
   "metadata": {},
   "outputs": [],
   "source": [
    "delta, gamma = symbols('\\\\delta, \\\\gamma')"
   ]
  },
  {
   "cell_type": "markdown",
   "metadata": {},
   "source": [
    "## Assumptions"
   ]
  },
  {
   "cell_type": "markdown",
   "metadata": {},
   "source": [
    "A basic assumption to be applied throughout this model is that there is symmetry in the upper and lower sections of the bow.\n",
    "To reflect this symmetry, points in the upper section will use a character, and the lower section will use the same character with a prime symbol.\n",
    "Translational and angular displacements are assumed equal and opposite in the upper and lower sections, which will be represented by using the negative $y$ component of the rotated frame from the upper section when representing coordinates in the lower section."
   ]
  },
  {
   "cell_type": "markdown",
   "metadata": {},
   "source": [
    "## Frames"
   ]
  },
  {
   "cell_type": "markdown",
   "metadata": {},
   "source": [
    "The inertial reference frames is defined with basis vectors $\\hat{\\boldsymbol{i}}$, $\\hat{\\boldsymbol{j}}$, and $\\hat{\\boldsymbol{k}}$."
   ]
  },
  {
   "cell_type": "code",
   "execution_count": null,
   "metadata": {},
   "outputs": [],
   "source": [
    "latexs = [r'\\hat{\\boldsymbol{' + ax + '}}' for ax in ('i', 'j', 'k')]\n",
    "inertial = ReferenceFrame('N', latexs=latexs)"
   ]
  },
  {
   "cell_type": "markdown",
   "metadata": {},
   "source": [
    "The limb orientations are defined using the frame $A$."
   ]
  },
  {
   "cell_type": "code",
   "execution_count": null,
   "metadata": {},
   "outputs": [],
   "source": [
    "A = inertial.orientnew('A', 'Axis', [theta0+theta, inertial.z])\n",
    "# A_ = inertial.orientnew('A^\\\\prime', 'Axis', [-theta0-theta, inertial.z])\n",
    "#display(A.dcm(inertial))"
   ]
  },
  {
   "cell_type": "markdown",
   "metadata": {},
   "source": [
    "The cam orientations are defined using frames $B$."
   ]
  },
  {
   "cell_type": "code",
   "execution_count": null,
   "metadata": {},
   "outputs": [],
   "source": [
    "B = inertial.orientnew('B', 'Axis', [phi, inertial.z])\n",
    "# B_ = inertial.orientnew('B^\\\\prime', 'Axis', [-phi, inertial.z])"
   ]
  },
  {
   "cell_type": "markdown",
   "metadata": {},
   "source": [
    "## Points"
   ]
  },
  {
   "cell_type": "markdown",
   "metadata": {},
   "source": [
    "The origin is designated $O$, and has zero velocity in the inertial frame."
   ]
  },
  {
   "cell_type": "code",
   "execution_count": null,
   "metadata": {},
   "outputs": [],
   "source": [
    "origin = Point('O')\n",
    "origin.set_vel(inertial, Vector(0))"
   ]
  },
  {
   "cell_type": "markdown",
   "metadata": {},
   "source": [
    "The point representing the position of the retracted line is designated $p$. "
   ]
  },
  {
   "cell_type": "code",
   "execution_count": null,
   "metadata": {},
   "outputs": [],
   "source": [
    "p = origin.locatenew('p', (x+x0)*inertial.x)\n",
    "p.set_vel(inertial, -v*inertial.x)"
   ]
  },
  {
   "cell_type": "markdown",
   "metadata": {},
   "source": [
    "The centers of rotation of the limbs are defined as points designated $a$ and $A^\\prime$."
   ]
  },
  {
   "cell_type": "code",
   "execution_count": null,
   "metadata": {},
   "outputs": [],
   "source": [
    "a = origin.locatenew('a', xl*inertial.x + yl*inertial.y)\n",
    "a_ = origin.locatenew('a^\\\\prime', xl*inertial.x - yl*inertial.y)"
   ]
  },
  {
   "cell_type": "markdown",
   "metadata": {},
   "source": [
    "The centers of rotation of the cams are located at points designated $b$ and $b^\\prime$."
   ]
  },
  {
   "cell_type": "code",
   "execution_count": null,
   "metadata": {},
   "outputs": [],
   "source": [
    "b = a.locatenew('b', l*A.x)\n",
    "b_ = a_.locatenew('b^\\\\prime', -l*A.x)\n",
    "display(b.pos_from(origin))\n",
    "display(b_.pos_from(origin))"
   ]
  },
  {
   "cell_type": "markdown",
   "metadata": {},
   "source": [
    "The points at which the lines contact the inner cam are designated $c$ and $c^\\prime$."
   ]
  },
  {
   "cell_type": "code",
   "execution_count": null,
   "metadata": {},
   "outputs": [],
   "source": [
    "c = b.locatenew('c', -ri*cos(delta)*inertial.x - ri*sin(delta)*inertial.y)\n",
    "c_ = b_.locatenew('c^\\\\prime', -ri*cos(delta)*inertial.x + ri*sin(delta)*inertial.y)"
   ]
  },
  {
   "cell_type": "code",
   "execution_count": null,
   "metadata": {},
   "outputs": [],
   "source": [
    "display(c_.pos_from(origin))"
   ]
  },
  {
   "cell_type": "markdown",
   "metadata": {},
   "source": [
    "The points at which the lines contact the outer cams are designated $d$ and $d^\\prime$.\n",
    "Similar to the inner cam, if the cam is circular, then a right triangle is formed, in this case with the hypotenuse formed between the contact point and the aft line where the archer holds their finger. "
   ]
  },
  {
   "cell_type": "code",
   "execution_count": null,
   "metadata": {},
   "outputs": [],
   "source": [
    "d = b.locatenew('d', ro*cos(gamma)*inertial.x + ro*sin(gamma)*inertial.y)\n",
    "d_ = b_.locatenew('d^\\\\prime', ro*cos(gamma)*inertial.x + ro*sin(gamma)*inertial.y)\n",
    "display(d_.pos_from(origin))"
   ]
  },
  {
   "cell_type": "markdown",
   "metadata": {},
   "source": [
    "## Functions"
   ]
  },
  {
   "cell_type": "markdown",
   "metadata": {},
   "source": [
    "For circular cams, we can assume the line is tangent to the edge of the circle, in this case the position of the contact point can be determined from a right triangle with the distance between $b$ and $b^\\prime$ forming the hypotenuse, and the circle radius forming one edge.\n",
    "For non-circular cams, a separate function is required to determine this contact point."
   ]
  },
  {
   "cell_type": "code",
   "execution_count": null,
   "metadata": {},
   "outputs": [],
   "source": [
    "rho_b = b.pos_from(b_).dot(inertial.y)\n",
    "delta_fcn = asin(ri/rho_b)\n",
    "display(delta_fcn)"
   ]
  }
 ],
 "metadata": {
  "kernelspec": {
   "display_name": "Python 3 (ipykernel)",
   "language": "python",
   "name": "python3"
  },
  "language_info": {
   "codemirror_mode": {
    "name": "ipython",
    "version": 3
   },
   "file_extension": ".py",
   "mimetype": "text/x-python",
   "name": "python",
   "nbconvert_exporter": "python",
   "pygments_lexer": "ipython3",
   "version": "3.7.13"
  }
 },
 "nbformat": 4,
 "nbformat_minor": 4
}
