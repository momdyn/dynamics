{
 "cells": [
  {
   "cell_type": "markdown",
   "metadata": {},
   "source": [
    "# Compound Bow\n"
   ]
  },
  {
   "cell_type": "markdown",
   "metadata": {},
   "source": [
    "## Imports"
   ]
  },
  {
   "cell_type": "code",
   "execution_count": 1,
   "metadata": {},
   "outputs": [],
   "source": [
    "from sympy import *\n",
    "from sympy.physics.mechanics import *"
   ]
  },
  {
   "cell_type": "markdown",
   "metadata": {},
   "source": [
    "## Symbols"
   ]
  },
  {
   "cell_type": "markdown",
   "metadata": {},
   "source": [
    "The retract distance for the bow is given by $x$, and the forward speed by $v$. Thus, the single generalized coordinate is $x$, and the corresponding generalized speed is $v$. Because the positive direction of the two is opposite, we define the kinematic equation $\\dot{x} = -v$, or by the convention used in `sympy`, $\\dot{x}+v=0$."
   ]
  },
  {
   "cell_type": "code",
   "execution_count": 2,
   "metadata": {},
   "outputs": [],
   "source": [
    "x, v = dynamicsymbols('x, v')\n",
    "kd = [diff(x) + v]"
   ]
  },
  {
   "cell_type": "markdown",
   "metadata": {},
   "source": [
    "We will define the origin of the model as a point at the grip of the bow. The line is initially set back a constant distance $x_0$ from this point, at which point forces are in equilibrium."
   ]
  },
  {
   "cell_type": "code",
   "execution_count": 3,
   "metadata": {},
   "outputs": [],
   "source": [
    "x0 = symbols('x_0')"
   ]
  },
  {
   "cell_type": "markdown",
   "metadata": {},
   "source": [
    "The limbs of the bow will be represented by rigid bodies with a rotational spring attached at fixed positions $(x_l, y_l)$ and $(x_l, -y_l)$ relative to the origin. The length of each limb is $l$, and the undeflected angle relative to the horizontal is $\\theta_0$. The effective angular stiffness of each limb is $k$. The mass and moment of inertia for each limb are $m_l$ and $I_l$, rsspectively."
   ]
  },
  {
   "cell_type": "code",
   "execution_count": 4,
   "metadata": {},
   "outputs": [],
   "source": [
    "xl, yl, l, theta0, ml, Il = symbols('x_l, y_l, l, \\\\theta_0, m_l, I_l')"
   ]
  },
  {
   "cell_type": "markdown",
   "metadata": {},
   "source": [
    "The extent of the limb's angular displacement relative to $\\theta_0$ is $\\theta$. "
   ]
  },
  {
   "cell_type": "code",
   "execution_count": 5,
   "metadata": {},
   "outputs": [],
   "source": [
    "theta = dynamicsymbols('\\\\theta')"
   ]
  },
  {
   "cell_type": "markdown",
   "metadata": {},
   "source": [
    "The inner and outer radii at the cam are defined as $r$ and $d$, respectively. These are initially defined as constants, though they may alternately be defined as functions of angular displacement for non-circular geometries."
   ]
  },
  {
   "cell_type": "code",
   "execution_count": 6,
   "metadata": {},
   "outputs": [],
   "source": [
    "r, d = symbols('r, d')"
   ]
  },
  {
   "cell_type": "markdown",
   "metadata": {},
   "source": [
    "The angular displacement for the cams relative to their initial angle is $\\phi$."
   ]
  },
  {
   "cell_type": "code",
   "execution_count": 7,
   "metadata": {},
   "outputs": [],
   "source": [
    "phi = dynamicsymbols('\\phi')"
   ]
  }
 ],
 "metadata": {
  "kernelspec": {
   "display_name": "Python 3",
   "language": "python",
   "name": "python3"
  },
  "language_info": {
   "codemirror_mode": {
    "name": "ipython",
    "version": 3
   },
   "file_extension": ".py",
   "mimetype": "text/x-python",
   "name": "python",
   "nbconvert_exporter": "python",
   "pygments_lexer": "ipython3",
   "version": "3.6.6+"
  }
 },
 "nbformat": 4,
 "nbformat_minor": 2
}
