{
 "cells": [
  {
   "cell_type": "markdown",
   "metadata": {},
   "source": [
    "# Compound Bow\n"
   ]
  },
  {
   "cell_type": "markdown",
   "metadata": {},
   "source": [
    "## Imports"
   ]
  },
  {
   "cell_type": "code",
   "execution_count": 66,
   "metadata": {},
   "outputs": [],
   "source": [
    "from sympy import *\n",
    "from sympy.physics.mechanics import *\n",
    "from IPython.display import display"
   ]
  },
  {
   "cell_type": "markdown",
   "metadata": {},
   "source": [
    "## Symbols"
   ]
  },
  {
   "cell_type": "markdown",
   "metadata": {},
   "source": [
    "The retract distance for the bow is given by $x$, and the forward speed by $v$. \n",
    "Thus, the single generalized coordinate is $x$, and the corresponding generalized speed is $v$. \n",
    "Because the positive direction of the two is opposite, we define the kinematic equation $\\dot{x} = -v$, or by the convention used in `sympy`, $\\dot{x}+v=0$."
   ]
  },
  {
   "cell_type": "code",
   "execution_count": 67,
   "metadata": {},
   "outputs": [],
   "source": [
    "x, v = dynamicsymbols('x, v')\n",
    "kd = [diff(x) + v]"
   ]
  },
  {
   "cell_type": "markdown",
   "metadata": {},
   "source": [
    "We will define the origin of the model as a point at the grip of the bow. \n",
    "The line is initially set back a constant distance $x_0$ from this point, at which point forces are in equilibrium."
   ]
  },
  {
   "cell_type": "code",
   "execution_count": 68,
   "metadata": {},
   "outputs": [],
   "source": [
    "x0 = symbols('x_0')"
   ]
  },
  {
   "cell_type": "markdown",
   "metadata": {},
   "source": [
    "The limbs of the bow will be represented by rigid bodies with a rotational spring attached at fixed positions $(x_l, y_l)$ and $(x_l, -y_l)$ relative to the origin. \n",
    "The length of each limb is $l$, and the undeflected angle relative to the horizontal is $\\theta_0$. The effective angular stiffness of each limb is $k$. \n",
    "The mass and moment of inertia for each limb are $m_l$ and $I_l$, respectively."
   ]
  },
  {
   "cell_type": "code",
   "execution_count": 69,
   "metadata": {},
   "outputs": [],
   "source": [
    "xl, yl, l, theta0, ml, Il = symbols('x_l, y_l, l, \\\\theta_0, m_l, I_l')"
   ]
  },
  {
   "cell_type": "markdown",
   "metadata": {},
   "source": [
    "The extent of the limb's angular displacement relative to $\\theta_0$ is $\\theta$. "
   ]
  },
  {
   "cell_type": "code",
   "execution_count": 70,
   "metadata": {},
   "outputs": [],
   "source": [
    "theta = dynamicsymbols('\\\\theta')"
   ]
  },
  {
   "cell_type": "markdown",
   "metadata": {},
   "source": [
    "The inner and outer radii at the cam are defined as $r_i$ and $r_o$, respectively. \n",
    "These are initially defined as constants, though they may alternately be defined as functions of angular displacement for non-circular geometries."
   ]
  },
  {
   "cell_type": "code",
   "execution_count": 71,
   "metadata": {},
   "outputs": [],
   "source": [
    "ri, ro = symbols('r_i, r_o')"
   ]
  },
  {
   "cell_type": "markdown",
   "metadata": {},
   "source": [
    "The angular displacement for the cams relative to their initial angle is $\\phi$."
   ]
  },
  {
   "cell_type": "code",
   "execution_count": 72,
   "metadata": {},
   "outputs": [],
   "source": [
    "phi = dynamicsymbols('\\phi')"
   ]
  },
  {
   "cell_type": "markdown",
   "metadata": {},
   "source": [
    "## Frames"
   ]
  },
  {
   "cell_type": "markdown",
   "metadata": {},
   "source": [
    "The inertial reference frames is defined with basis vectors $\\hat{\\boldsymbol{i}}$, $\\hat{\\boldsymbol{j}}$, and $\\hat{\\boldsymbol{k}}$."
   ]
  },
  {
   "cell_type": "code",
   "execution_count": 73,
   "metadata": {},
   "outputs": [],
   "source": [
    "latexs = [r'\\hat{\\boldsymbol{' + ax + '}}' for ax in ('i', 'j', 'k')]\n",
    "inertial = ReferenceFrame('N', latexs=latexs)"
   ]
  },
  {
   "cell_type": "markdown",
   "metadata": {},
   "source": [
    "The limb orientations are defined using frames $A$ and $B$."
   ]
  },
  {
   "cell_type": "code",
   "execution_count": 74,
   "metadata": {},
   "outputs": [],
   "source": [
    "A = inertial.orientnew('A', 'Axis', [theta0+theta, inertial.z])\n",
    "B = inertial.orientnew('B', 'Axis', [-theta0-theta, inertial.z])\n",
    "#display(A.dcm(inertial))"
   ]
  },
  {
   "cell_type": "markdown",
   "metadata": {},
   "source": [
    "The cam orientations are defined using frames $C$ and $D$."
   ]
  },
  {
   "cell_type": "code",
   "execution_count": 75,
   "metadata": {},
   "outputs": [],
   "source": [
    "C = inertial.orientnew('C', 'Axis', [phi, inertial.z])\n",
    "D = inertial.orientnew('D', 'Axis', [-phi, inertial.z])"
   ]
  },
  {
   "cell_type": "markdown",
   "metadata": {},
   "source": [
    "## Points"
   ]
  },
  {
   "cell_type": "markdown",
   "metadata": {},
   "source": [
    "The origin is designated $O$, and has zero velocity in the inertial frame."
   ]
  },
  {
   "cell_type": "code",
   "execution_count": 76,
   "metadata": {},
   "outputs": [],
   "source": [
    "origin = Point('O')\n",
    "origin.set_vel(inertial, Vector(0))"
   ]
  },
  {
   "cell_type": "markdown",
   "metadata": {},
   "source": [
    "The point representing the position of the retracted line is designated $p$. "
   ]
  },
  {
   "cell_type": "code",
   "execution_count": 77,
   "metadata": {},
   "outputs": [],
   "source": [
    "p = origin.locatenew('p', (x+x0)*inertial.x)\n",
    "p.set_vel(inertial, -v*inertial.x)"
   ]
  },
  {
   "cell_type": "markdown",
   "metadata": {},
   "source": [
    "The centers of rotation of the limbs are defined as points designated $a$ and $b$."
   ]
  },
  {
   "cell_type": "code",
   "execution_count": 78,
   "metadata": {},
   "outputs": [],
   "source": [
    "a = origin.locatenew('a', xl*inertial.x + yl*inertial.y)\n",
    "b = origin.locatenew('b', xl*inertial.x - yl*inertial.y)"
   ]
  },
  {
   "cell_type": "markdown",
   "metadata": {},
   "source": [
    "The centers of rotation of the cams are located at points designated $c$ and $d$"
   ]
  },
  {
   "cell_type": "code",
   "execution_count": 79,
   "metadata": {},
   "outputs": [
    {
     "data": {
      "text/latex": [
       "$\\displaystyle l\\mathbf{\\hat{b}_x} + x_{l}\\hat{\\boldsymbol{i}} -  y_{l}\\hat{\\boldsymbol{j}}$"
      ],
      "text/plain": [
       "x_l*N.x - y_l*N.y + l*B.x"
      ]
     },
     "metadata": {},
     "output_type": "display_data"
    }
   ],
   "source": [
    "c = a.locatenew('c', l*A.x)\n",
    "d = b.locatenew('d', l*B.x)\n",
    "display(d.pos_from(origin))"
   ]
  },
  {
   "cell_type": "markdown",
   "metadata": {},
   "source": [
    "The points at which the lines contact the inner cam are designated $e$ and $f$.\n",
    "For circular cams, we can assume the line is tangent to the edge of the circle, in this case the position of the contact point can be determined from a right triangle with the distance between $c$ and $d$ forming the hypotenuse, and the circle radius forming one edge.\n",
    "The angle for the contact point relative to the local horizontal axis is denoted $\\delta$.\n",
    "For non-circular cams, a separate function is required to determine this contact point."
   ]
  },
  {
   "cell_type": "code",
   "execution_count": 80,
   "metadata": {},
   "outputs": [],
   "source": [
    "rho_cd = c.pos_from(d).dot(inertial.y)\n",
    "#delta = asin(ri/rho_cd)\n",
    "delta = symbols('\\\\delta')\n",
    "e = c.locatenew('e', -ri*cos(delta)*inertial.x - ri*sin(delta)*inertial.y)\n",
    "f = d.locatenew('f', -ri*cos(delta)*inertial.x + ri*sin(delta)*inertial.y)"
   ]
  },
  {
   "cell_type": "code",
   "execution_count": 81,
   "metadata": {},
   "outputs": [
    {
     "data": {
      "text/latex": [
       "$\\displaystyle (- r_{i} \\cos{\\left(\\delta \\right)} + x_{l})\\hat{\\boldsymbol{i}} + (- r_{i} \\sin{\\left(\\delta \\right)} + y_{l})\\hat{\\boldsymbol{j}} + l\\mathbf{\\hat{a}_x}$"
      ],
      "text/plain": [
       "(-r_i*cos(\\delta) + x_l)*N.x + (-r_i*sin(\\delta) + y_l)*N.y + l*A.x"
      ]
     },
     "metadata": {},
     "output_type": "display_data"
    }
   ],
   "source": [
    "#display(rho_cd)\n",
    "#display(rho_cd.dot(inertial.y))\n",
    "#display(delta)\n",
    "display(e.pos_from(origin))"
   ]
  },
  {
   "cell_type": "markdown",
   "metadata": {},
   "source": [
    "The points at which the lines contact the outer cams are designated $g$ and $h$.\n",
    "Similar to the inner cam, if the cam is circular, then a right triangle is formed, in this case with the hypotenuse formed between the contact point and the aft line where the archer holds their finger. \n",
    "The angle relative to local horizontal is denoted $\\gamma$."
   ]
  },
  {
   "cell_type": "code",
   "execution_count": 82,
   "metadata": {},
   "outputs": [
    {
     "data": {
      "text/latex": [
       "$\\displaystyle (r_{o} \\cos{\\left(\\gamma \\right)} + x_{l})\\hat{\\boldsymbol{i}} + (r_{o} \\sin{\\left(\\gamma \\right)} - y_{l})\\hat{\\boldsymbol{j}} + l\\mathbf{\\hat{b}_x}$"
      ],
      "text/plain": [
       "(r_o*cos(\\gamma) + x_l)*N.x + (r_o*sin(\\gamma) - y_l)*N.y + l*B.x"
      ]
     },
     "metadata": {},
     "output_type": "display_data"
    }
   ],
   "source": [
    "gamma = symbols('\\\\gamma')\n",
    "g = c.locatenew('g', ro*cos(gamma)*inertial.x + ro*sin(gamma)*inertial.y)\n",
    "h = d.locatenew('h', ro*cos(gamma)*inertial.x + ro*sin(gamma)*inertial.y)\n",
    "display(h.pos_from(origin))"
   ]
  },
  {
   "cell_type": "code",
   "execution_count": null,
   "metadata": {},
   "outputs": [],
   "source": []
  }
 ],
 "metadata": {
  "kernelspec": {
   "display_name": "Python 3",
   "language": "python",
   "name": "python3"
  },
  "language_info": {
   "codemirror_mode": {
    "name": "ipython",
    "version": 3
   },
   "file_extension": ".py",
   "mimetype": "text/x-python",
   "name": "python",
   "nbconvert_exporter": "python",
   "pygments_lexer": "ipython3",
   "version": "3.6.6+"
  }
 },
 "nbformat": 4,
 "nbformat_minor": 2
}
