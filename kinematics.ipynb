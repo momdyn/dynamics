{
 "cells": [
  {
   "cell_type": "markdown",
   "metadata": {},
   "source": [
    "# Kinematics"
   ]
  },
  {
   "cell_type": "markdown",
   "metadata": {},
   "source": [
    "## Table of Contents\n",
    "1. Frames, Points, and Vectors\n",
    "2. Rectilinear Motion\n",
    "3. Curvilinear Motion\n",
    "4. Rotating Frames"
   ]
  },
  {
   "cell_type": "code",
   "execution_count": null,
   "metadata": {},
   "outputs": [],
   "source": [
    "from sympy import symbols, simplify\n",
    "from sympy.physics.mechanics import mechanics_printing, ReferenceFrame, Point, Vector, dynamicsymbols\n",
    "from IPython.display import display\n",
    "mechanics_printing()"
   ]
  },
  {
   "cell_type": "markdown",
   "metadata": {},
   "source": [
    "## Frames, Points, and Vectors\n",
    "- all dynamics models should begin with definition of an inertial reference frame"
   ]
  },
  {
   "cell_type": "code",
   "execution_count": null,
   "metadata": {},
   "outputs": [],
   "source": [
    "inertial = ReferenceFrame('N', latexs=[r'\\hat{\\boldsymbol{' + axis + '}}' for axis in ('i', 'j', 'k')])\n",
    "#display(inertial.x, inertial.y, inertial.z)"
   ]
  },
  {
   "cell_type": "markdown",
   "metadata": {},
   "source": [
    "- can define a rotating frame, angle about an axis"
   ]
  },
  {
   "cell_type": "code",
   "execution_count": null,
   "metadata": {},
   "outputs": [],
   "source": [
    "theta = dynamicsymbols(r'\\theta')\n",
    "E = inertial.orientnew('E', 'Axis', (theta, inertial.z))\n",
    "display(E.dcm(inertial))"
   ]
  },
  {
   "cell_type": "code",
   "execution_count": null,
   "metadata": {},
   "outputs": [],
   "source": [
    "display(E.ang_vel_in(inertial))"
   ]
  },
  {
   "cell_type": "markdown",
   "metadata": {},
   "source": [
    "- generally dynamics models should also have a point designated as the origin\n",
    "- second argument is a vector, 'Vector(0)', sets the zero vector, a zero by itself would crash"
   ]
  },
  {
   "cell_type": "code",
   "execution_count": null,
   "metadata": {},
   "outputs": [],
   "source": [
    "origin = Point('O')\n",
    "origin.set_vel(inertial, Vector(0))"
   ]
  },
  {
   "cell_type": "markdown",
   "metadata": {},
   "source": [
    "- common definition of a vector is having distance components in one or more axes of a frame"
   ]
  },
  {
   "cell_type": "code",
   "execution_count": null,
   "metadata": {},
   "outputs": [],
   "source": [
    "x, y, z = dynamicsymbols('x, y, z')\n",
    "r = x*inertial.x + y*inertial.y + z*inertial.z\n",
    "display(r)"
   ]
  },
  {
   "cell_type": "markdown",
   "metadata": {},
   "source": [
    "## Rectilinear Motion\n"
   ]
  },
  {
   "cell_type": "code",
   "execution_count": null,
   "metadata": {},
   "outputs": [],
   "source": [
    "a = origin.locatenew('a', r)"
   ]
  },
  {
   "cell_type": "code",
   "execution_count": null,
   "metadata": {},
   "outputs": [],
   "source": [
    "display(a.vel(inertial))"
   ]
  },
  {
   "cell_type": "code",
   "execution_count": null,
   "metadata": {},
   "outputs": [],
   "source": [
    "display(a.acc(inertial))"
   ]
  },
  {
   "cell_type": "markdown",
   "metadata": {},
   "source": [
    "## Curvilinear Motion"
   ]
  },
  {
   "cell_type": "code",
   "execution_count": null,
   "metadata": {},
   "outputs": [],
   "source": [
    "radius = symbols('r')\n",
    "r = radius*E.x\n",
    "a = origin.locatenew('a', r)"
   ]
  },
  {
   "cell_type": "code",
   "execution_count": null,
   "metadata": {},
   "outputs": [],
   "source": [
    "display(a.pos_from(origin))"
   ]
  },
  {
   "cell_type": "code",
   "execution_count": null,
   "metadata": {},
   "outputs": [],
   "source": [
    "display(a.vel(inertial))"
   ]
  },
  {
   "cell_type": "code",
   "execution_count": null,
   "metadata": {},
   "outputs": [],
   "source": [
    "display(a.acc(inertial))"
   ]
  },
  {
   "cell_type": "code",
   "execution_count": null,
   "metadata": {},
   "outputs": [],
   "source": [
    "radius = dynamicsymbols('r')\n",
    "r = radius*E.x\n",
    "a = origin.locatenew('a', r)\n",
    "display(a.pos_from(origin))"
   ]
  },
  {
   "cell_type": "code",
   "execution_count": null,
   "metadata": {},
   "outputs": [],
   "source": [
    "display(a.vel(inertial))"
   ]
  },
  {
   "cell_type": "code",
   "execution_count": null,
   "metadata": {},
   "outputs": [],
   "source": [
    "display(a.acc(inertial))"
   ]
  },
  {
   "cell_type": "markdown",
   "metadata": {},
   "source": [
    "## Rotating Frames"
   ]
  },
  {
   "cell_type": "code",
   "execution_count": null,
   "metadata": {},
   "outputs": [],
   "source": [
    "yaw, pitch, roll = dynamicsymbols(r'\\psi, \\theta, \\phi')\n",
    "E321 = inertial.orientnew('E', 'Body', (yaw, pitch, roll), '321')\n",
    "display(E321.dcm(inertial))"
   ]
  },
  {
   "cell_type": "code",
   "execution_count": null,
   "metadata": {},
   "outputs": [],
   "source": [
    "omega = E321.ang_vel_in(inertial).simplify()\n",
    "display(omega)"
   ]
  },
  {
   "cell_type": "code",
   "execution_count": null,
   "metadata": {},
   "outputs": [],
   "source": [
    "wx, wy, wz = rates = dynamicsymbols(r'\\omega_x, \\omega_y, \\omega_z')\n",
    "angularVelocity = wx*E321.x + wy*E321.y + wz*E321.z\n",
    "E321.set_ang_vel(inertial, angularVelocity)\n",
    "display(E321.ang_vel_in(inertial))"
   ]
  },
  {
   "cell_type": "code",
   "execution_count": null,
   "metadata": {},
   "outputs": [],
   "source": [
    "q0, q1, q2, q3 = quaternion = dynamicsymbols('q_0, q_1, q_2, q_3')\n",
    "Equat = inertial.orientnew('E', 'Quaternion', quaternion)\n",
    "display(Equat.dcm(inertial))"
   ]
  },
  {
   "cell_type": "code",
   "execution_count": null,
   "metadata": {},
   "outputs": [],
   "source": [
    "display(Equat.ang_vel_in(inertial))"
   ]
  }
 ],
 "metadata": {
  "kernelspec": {
   "display_name": "Python 3",
   "language": "python",
   "name": "python3"
  },
  "language_info": {
   "codemirror_mode": {
    "name": "ipython",
    "version": 3
   },
   "file_extension": ".py",
   "mimetype": "text/x-python",
   "name": "python",
   "nbconvert_exporter": "python",
   "pygments_lexer": "ipython3",
   "version": "3.6.6+"
  }
 },
 "nbformat": 4,
 "nbformat_minor": 2
}
