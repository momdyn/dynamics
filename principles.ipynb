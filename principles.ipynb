{
 "cells": [
  {
   "cell_type": "markdown",
   "metadata": {},
   "source": [
    "# First Principles"
   ]
  },
  {
   "cell_type": "markdown",
   "metadata": {},
   "source": [
    "## Table of Contents\n",
    "1. Newton's Laws of Motion\n",
    "2. Position, Velocity, and Acceleration\n",
    "3. Newton-Euler Equations\n",
    "4. Math\n",
    "5. Notation and Syntax"
   ]
  },
  {
   "cell_type": "code",
   "execution_count": null,
   "metadata": {},
   "outputs": [],
   "source": [
    "from sympy import symbols, plot, integrate, latex, sin, cos\n",
    "from IPython.display import display\n",
    "import matplotlib.pyplot as plt"
   ]
  },
  {
   "cell_type": "markdown",
   "metadata": {},
   "source": [
    "## Newton's Laws of Motion\n",
    "\n",
    "FIXME: do not use exact phrasing from wikipedia\n",
    "\n",
    "1. A body remains at rest, or in motion at a constant speed in a straight line, unless acted upon by a force.\n",
    "\n",
    "2. When a body is acted upon by a force, the time rate of change of its momentum equals the force.\n",
    "\n",
    "3. If two bodies exert forces on each other, these forces have the same magnitude but opposite directions."
   ]
  },
  {
   "cell_type": "markdown",
   "metadata": {},
   "source": [
    "## Position, Velocity, and Acceleration\n",
    "\n",
    "- Suppose motion along a line\n",
    "- Position vector with component $x$\n",
    "\n",
    "$\\boldsymbol{r} = x\\hat{\\boldsymbol{i}}$\n",
    "\n",
    "- Suppose constant speed $v$\n",
    "- Then the position at time $t$, given initial position $x_0$\n",
    "\n",
    "$x(t) = x_0 + vt$\n",
    "\n",
    "- Taking partial derivative with respect to time\n",
    "\n",
    "$\\frac{\\partial x}{\\partial t} = v$\n",
    "\n",
    "- Can also write as a velocity vector, where dot notation denotes the partial derivative wrt time\n",
    "\n",
    "$\\dot{\\boldsymbol{r}} = v\\hat{\\boldsymbol{i}}$ \n",
    "\n",
    "- Suppose constant acceleration $a$\n",
    "- Then the velocity at time $t$, given initial velocity $v_0$\n",
    "\n",
    "$v(t) = v_0 + at$\n",
    "\n",
    "- Taking partial derivative of velocity wrt time\n",
    "\n",
    "$\\frac{\\partial v}{\\partial t} = a$\n",
    "\n",
    "- Can also write as acceleration vector\n",
    "\n",
    "$\\ddot{\\boldsymbol{r}} = a\\hat{\\boldsymbol{i}}$\n",
    "\n",
    "- For the constant acceleration case\n",
    "\n",
    "$x(t) = \\frac{1}{2} a t^2$"
   ]
  },
  {
   "cell_type": "code",
   "execution_count": null,
   "metadata": {},
   "outputs": [],
   "source": [
    "t, a = symbols('t, a')\n",
    "A = 1\n",
    "v = integrate(a, t)\n",
    "x = integrate(v, t)\n",
    "\n",
    "plot(x.subs(a, A), v.subs(a, A), a.subs(a, A), (t, 0, 1));"
   ]
  },
  {
   "cell_type": "code",
   "execution_count": null,
   "metadata": {},
   "outputs": [],
   "source": [
    "g, v0 = symbols('g, v_0')\n",
    "a = -g\n",
    "G = 9.8\n",
    "V0 = 10\n",
    "subdict = {g: G, v0: V0}\n",
    "v = integrate(a, (t, 0, t)) + v0\n",
    "x = integrate(v, (t, 0, t))\n",
    "\n",
    "plot(x.subs(subdict), v.subs(subdict), a.subs(subdict), (t, 0, 2))"
   ]
  },
  {
   "cell_type": "code",
   "execution_count": null,
   "metadata": {},
   "outputs": [],
   "source": [
    "omega = symbols('\\\\omega', positive=True)\n",
    "rate = 3\n",
    "a = cos(omega*t)\n",
    "v = integrate(a, (t, 0, t))\n",
    "display(v)\n",
    "x = integrate(v, (t, 0, t))\n",
    "display(x)\n",
    "plot(x.subs(omega, rate), v.subs(omega, rate), a.subs(omega, rate), (t, 0, 4));"
   ]
  },
  {
   "cell_type": "markdown",
   "metadata": {},
   "source": [
    "## Newton-Euler Equations\n",
    "\n",
    "- Second law of motion\n",
    "\n",
    "$f = \\dot\\rho$\n",
    "\n",
    "- where $m$ is mass and $\\rho$ is momentum\n",
    "\n",
    "$\\rho = mv$\n",
    "\n",
    "- differentiate wrt time\n",
    "\n",
    "$\\dot\\rho = \\dot m v + m\\dot v$\n",
    "\n",
    "- considering the most common case for constant mass\n",
    "\n",
    "$f = ma$\n",
    "\n",
    "- analog for rotation\n",
    "\n",
    "$M = \\dot H$\n",
    "\n",
    "- for a single axis of rotation\n",
    "\n",
    "$H = I \\omega$\n",
    "\n",
    "- if we assume $I$ is constant\n",
    "\n",
    "$M = I \\dot\\omega$"
   ]
  },
  {
   "cell_type": "markdown",
   "metadata": {},
   "source": [
    "## Math"
   ]
  },
  {
   "cell_type": "markdown",
   "metadata": {},
   "source": [
    "### Vector Products"
   ]
  },
  {
   "cell_type": "markdown",
   "metadata": {},
   "source": [
    "### Quaternions"
   ]
  },
  {
   "cell_type": "markdown",
   "metadata": {},
   "source": [
    "## Notation and Syntax"
   ]
  }
 ],
 "metadata": {
  "kernelspec": {
   "display_name": "Python 3",
   "language": "python",
   "name": "python3"
  },
  "language_info": {
   "codemirror_mode": {
    "name": "ipython",
    "version": 3
   },
   "file_extension": ".py",
   "mimetype": "text/x-python",
   "name": "python",
   "nbconvert_exporter": "python",
   "pygments_lexer": "ipython3",
   "version": "3.6.6+"
  }
 },
 "nbformat": 4,
 "nbformat_minor": 2
}
